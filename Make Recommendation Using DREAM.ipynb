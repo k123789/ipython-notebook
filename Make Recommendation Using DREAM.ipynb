{
 "cells": [
  {
   "cell_type": "code",
   "execution_count": null,
   "metadata": {},
   "outputs": [],
   "source": [
    "# https://github.com/LaceyChen17/DREAM"
   ]
  },
  {
   "cell_type": "code",
   "execution_count": null,
   "metadata": {},
   "outputs": [],
   "source": [
    "# Make Recommendation Using DREAM.ipynb\n",
    "\n",
    "# using trained DREAM model to generate predictors for <u,p>"
   ]
  },
  {
   "cell_type": "code",
   "execution_count": 1,
   "metadata": {},
   "outputs": [
    {
     "ename": "ModuleNotFoundError",
     "evalue": "No module named 'constants'",
     "output_type": "error",
     "traceback": [
      "\u001b[1;31m---------------------------------------------------------------------------\u001b[0m",
      "\u001b[1;31mModuleNotFoundError\u001b[0m                       Traceback (most recent call last)",
      "\u001b[1;32m<ipython-input-1-e5c2076ffff0>\u001b[0m in \u001b[0;36m<module>\u001b[1;34m()\u001b[0m\n\u001b[0;32m      1\u001b[0m \u001b[1;32mimport\u001b[0m \u001b[0mos\u001b[0m\u001b[1;33m\u001b[0m\u001b[0m\n\u001b[1;32m----> 2\u001b[1;33m \u001b[1;32mimport\u001b[0m \u001b[0mconstants\u001b[0m\u001b[1;33m\u001b[0m\u001b[0m\n\u001b[0m\u001b[0;32m      3\u001b[0m \u001b[1;32mfrom\u001b[0m \u001b[0mconfig\u001b[0m \u001b[1;32mimport\u001b[0m \u001b[0mConfig\u001b[0m\u001b[1;33m\u001b[0m\u001b[0m\n\u001b[0;32m      4\u001b[0m \u001b[1;32mfrom\u001b[0m \u001b[0meval\u001b[0m \u001b[1;32mimport\u001b[0m \u001b[0meval_batch\u001b[0m\u001b[1;33m\u001b[0m\u001b[0m\n\u001b[0;32m      5\u001b[0m \u001b[1;32mfrom\u001b[0m \u001b[0mdata\u001b[0m \u001b[1;32mimport\u001b[0m \u001b[0mDataset\u001b[0m\u001b[1;33m,\u001b[0m \u001b[0mBasketConstructor\u001b[0m\u001b[1;33m\u001b[0m\u001b[0m\n",
      "\u001b[1;31mModuleNotFoundError\u001b[0m: No module named 'constants'"
     ]
    }
   ],
   "source": [
    "import os\n",
    "import constants\n",
    "from config import Config\n",
    "from eval import eval_batch\n",
    "from data import Dataset, BasketConstructor\n",
    "from utils import repackage_hidden, batchify\n",
    "\n",
    "import torch\n",
    "import pickle\n",
    "import numpy as np\n",
    "import pandas as pd\n",
    "\n",
    "from matplotlib import pyplot as plt\n",
    "from sklearn.decomposition import PCA"
   ]
  },
  {
   "cell_type": "code",
   "execution_count": null,
   "metadata": {},
   "outputs": [],
   "source": [
    "# os.environ[\"CUDA_DEVICE_ORDER\"]=\"PCI_BUS_ID\" \n",
    "# os.environ[\"CUDA_VISIBLE_DEVICES\"]=\"0,1,2,3\""
   ]
  },
  {
   "cell_type": "code",
   "execution_count": 4,
   "metadata": {},
   "outputs": [],
   "source": [
    "bc = BasketConstructor(constants.RAW_DATA_DIR, constants.FEAT_DATA_DIR)\n",
    "ub_basket = bc.get_baskets('prior', reconstruct = False)\n",
    "ub_rbks = bc.get_baskets('prior', reconstruct = False, reordered = True)\n",
    "ub_ihis = bc.get_item_history('prior', reconstruct = False)\n",
    "\n",
    "# ub = Dataset(ub_basket) \n",
    "ub = Dataset(ub_basket, ub_rbks, ub_ihis)\n",
    "up = bc.get_users_products('prior')"
   ]
  },
  {
   "cell_type": "code",
   "execution_count": null,
   "metadata": {},
   "outputs": [],
   "source": [
    "# Load model and calculate <u,p>score\n",
    "# <u,p> score can be used to predict whether the user u will buy product p or not\n",
    "\n",
    "with open(constants.DREAM_MODEL_DIR + 'reorder-next-dream-05-164.6961.model', 'rb') as f:\n",
    "    dr_model  = torch.load(f)\n",
    "\n",
    "dr_model.config.cuda = True\n",
    "\n",
    "# 1 hour 4mins\n",
    "id_u, item_u, score_u, dynamic_u = eval_batch(dr_model, ub, up, 512, is_reordered = True)"
   ]
  },
  {
   "cell_type": "code",
   "execution_count": null,
   "metadata": {},
   "outputs": [],
   "source": [
    "len_u = [i.shape[0] for i in item_u] # number of products for each user\n",
    "flatten_id = np.repeat(id_u, len_u) # repeat id_u to ensure the same length as item_u\n",
    "flatten_item = [i for u in item_u for i in u]\n",
    "flatten_score = [s for u in score_u for s in u]\n",
    "res = pd.DataFrame({'user_id': flatten_id, 'product_id': flatten_item, 'dream_score': flatten_score})\n",
    "res.drop_duplicates(inplace=True)\n",
    "res = res.groupby(['user_id', 'product_id'])['dream_score'].mean().reset_index()\n",
    "\n",
    "res.columns = ['user_id', 'product_id', 'reorder_dream_score_next']\n",
    "\n",
    "# dump results\n",
    "with open(constants.FEAT_DATA_DIR + 'reorder_dream_score_next.pkl', 'wb') as f:\n",
    "    pickle.dump(res, f, pickle.HIGHEST_PROTOCOL)"
   ]
  },
  {
   "cell_type": "code",
   "execution_count": null,
   "metadata": {},
   "outputs": [],
   "source": [
    "# <font color=blue> Dynamic User </font>\n",
    "# dynamic users' representations are also useful features for recommendations\n",
    "\n",
    "du = pd.DataFrame(dynamic_u, columns = ['reorder_dynamic_u_{}'.format(i) for i in range(128)])\n",
    "du['user_id'] = id_u\n",
    "du = du.groupby(['user_id']).mean().reset_index()\n",
    "# dump results\n",
    "with open(constants.FEAT_DATA_DIR + 'reorder_dream_dynamic_u.pkl', 'wb') as f:\n",
    "    pickle.dump(du, f, pickle.HIGHEST_PROTOCOL)"
   ]
  },
  {
   "cell_type": "code",
   "execution_count": null,
   "metadata": {},
   "outputs": [],
   "source": [
    "# <font color=red> PCA Compression of Dynamic User Representations</font>\n",
    "\n",
    "with open(constants.FEAT_DATA_DIR + 'dream_dynamic_u.pkl', 'rb') as f:\n",
    "    du = pickle.load(f)\n",
    "\n",
    "pca = PCA(n_components=8)\n",
    "pca.fit(du[['reorder_dynamic_u_{}'.format(i) for i in range(128)]])\n",
    "\n",
    "plt.plot(pca.explained_variance_ratio_[:10])\n",
    "plt.show()\n",
    "pca.explained_variance_ratio_[:10]\n",
    "\n",
    "compressed_du = pca.transform(du[['reorder_dynamic_u_{}'.format(i) for i in range(128)]])\n",
    "compressed_du = pd.DataFrame(compressed_du, columns=['reorder_dynamic_u_pc_{}'.format(i) for i in range(8)])\n",
    "compressed_du['user_id'] = du['user_id']\n",
    "\n",
    "with open(constants.FEAT_DATA_DIR + 'reorder_dream_dynamic_u_pc.pkl', 'wb') as f:\n",
    "    pickle.dump(compressed_du, f, pickle.HIGHEST_PROTOCOL)"
   ]
  },
  {
   "cell_type": "code",
   "execution_count": null,
   "metadata": {},
   "outputs": [],
   "source": [
    "# <font color=black> Item embedding </font>\n",
    "\n",
    "item_embedding = dr_model.encode.weight.data.cpu().numpy()\n",
    "item_embedding = pd.DataFrame(item_embedding, columns=['reorder_prod_dim_{}'.format(i) for i in range(128)])\n",
    "item_embedding['product_id'] = np.arange(0, len(item_embedding))\n",
    "\n",
    "with open(constants.FEAT_DATA_DIR + 'reorder_dream_item_embed.pkl', 'wb') as f:\n",
    "    pickle.dump(item_embedding, f, pickle.HIGHEST_PROTOCOL)\n",
    "\n",
    "pca = PCA(n_components=8)\n",
    "pca.fit(item_embedding[['reorder_prod_dim_{}'.format(i) for i in range(128)]])\n",
    "\n",
    "compressed_item_embedding = pca.transform(item_embedding[['reorder_prod_dim_{}'.format(i) for i in range(128)]])\n",
    "compressed_ie = pd.DataFrame(compressed_item_embedding, columns=['reorder_prod_dim_{}'.format(i) for i in range(8)])\n",
    "compressed_ie['product_id'] = item_embedding['product_id']\n",
    "\n",
    "with open(constants.FEAT_DATA_DIR + 'reorder_dream_item_embed_pc.pkl', 'wb') as f:\n",
    "    pickle.dump(compressed_ie, f, pickle.HIGHEST_PROTOCOL)\n",
    "\n",
    "plt.plot(pca.explained_variance_ratio_[:20])\n",
    "plt.show()\n",
    "pca.explained_variance_ratio_[:10]"
   ]
  },
  {
   "cell_type": "code",
   "execution_count": null,
   "metadata": {},
   "outputs": [],
   "source": [
    "# <font color=lime> Pack all DREAM related features </font>\n",
    "\n",
    "fp = ['reorder_dream_score_next.pkl', 'reorder_dream_dynamic_u_pc.pkl', 'reorder_dream_item_embed_pc.pkl']\n",
    "\n",
    "dreams = []\n",
    "for file in fp:\n",
    "    with open(constants.FEAT_DATA_DIR + file, 'rb') as f:\n",
    "        dreams.append(pickle.load(f))\n",
    "\n",
    "dream_final = pd.merge(dreams[0], dreams[1], on=['user_id'], how='left')\n",
    "\n",
    "dream_final = pd.merge(dream_final, dreams[2], on=['product_id'], how='left')\n",
    "dream_final = dream_final.groupby(['user_id', 'product_id']).mean().reset_index()\n",
    "\n",
    "with open(constants.FEAT_DATA_DIR + 'reorder_dream_final.pkl', 'wb') as f:\n",
    "    pickle.dump(dream_final, f, pickle.HIGHEST_PROTOCOL)"
   ]
  },
  {
   "cell_type": "code",
   "execution_count": null,
   "metadata": {},
   "outputs": [],
   "source": []
  },
  {
   "cell_type": "code",
   "execution_count": null,
   "metadata": {},
   "outputs": [],
   "source": []
  },
  {
   "cell_type": "code",
   "execution_count": null,
   "metadata": {},
   "outputs": [],
   "source": []
  },
  {
   "cell_type": "code",
   "execution_count": null,
   "metadata": {},
   "outputs": [],
   "source": []
  },
  {
   "cell_type": "code",
   "execution_count": null,
   "metadata": {},
   "outputs": [],
   "source": []
  },
  {
   "cell_type": "code",
   "execution_count": null,
   "metadata": {},
   "outputs": [],
   "source": []
  },
  {
   "cell_type": "code",
   "execution_count": null,
   "metadata": {},
   "outputs": [],
   "source": []
  },
  {
   "cell_type": "code",
   "execution_count": null,
   "metadata": {},
   "outputs": [],
   "source": []
  },
  {
   "cell_type": "code",
   "execution_count": null,
   "metadata": {},
   "outputs": [],
   "source": []
  }
 ],
 "metadata": {
  "kernelspec": {
   "display_name": "Python 3",
   "language": "python",
   "name": "python3"
  },
  "language_info": {
   "codemirror_mode": {
    "name": "ipython",
    "version": 3
   },
   "file_extension": ".py",
   "mimetype": "text/x-python",
   "name": "python",
   "nbconvert_exporter": "python",
   "pygments_lexer": "ipython3",
   "version": "3.6.3"
  }
 },
 "nbformat": 4,
 "nbformat_minor": 2
}
