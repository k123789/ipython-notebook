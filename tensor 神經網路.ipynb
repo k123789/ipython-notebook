{
 "cells": [
  {
   "cell_type": "code",
   "execution_count": 6,
   "metadata": {},
   "outputs": [],
   "source": [
    "import tensorflow as tf\n",
    "import numpy as np\n"
   ]
  },
  {
   "cell_type": "code",
   "execution_count": 7,
   "metadata": {},
   "outputs": [],
   "source": [
    "x_data=np.random.rand(100).astype(np.float32)\n",
    "y_data=x_data*0.1+0.3"
   ]
  },
  {
   "cell_type": "code",
   "execution_count": 11,
   "metadata": {},
   "outputs": [],
   "source": [
    "Weights=tf.Variable(tf.random_uniform([1],-1.0,1.0))\n",
    "biases=tf.Variable(tf.zeros([1]))\n",
    "\n"
   ]
  },
  {
   "cell_type": "code",
   "execution_count": 13,
   "metadata": {},
   "outputs": [],
   "source": [
    "y=Weights*x_data+biases\n"
   ]
  },
  {
   "cell_type": "code",
   "execution_count": 14,
   "metadata": {},
   "outputs": [],
   "source": [
    "loss=tf.reduce_mean(tf.square(y-y_data))\n",
    "optimizer=tf.train.GradientDescentOptimizer(0.5)\n",
    "train=optimizer.minimize(loss)\n",
    "init=tf.initialize_all_variables()"
   ]
  },
  {
   "cell_type": "code",
   "execution_count": 17,
   "metadata": {},
   "outputs": [
    {
     "name": "stdout",
     "output_type": "stream",
     "text": [
      "0 [-0.04068696] [ 0.51882505]\n",
      "20 [ 0.04005591] [ 0.33207765]\n",
      "40 [ 0.08206936] [ 0.30959517]\n",
      "60 [ 0.09463652] [ 0.30287015]\n",
      "80 [ 0.09839566] [ 0.30085853]\n",
      "100 [ 0.09952012] [ 0.30025682]\n",
      "120 [ 0.09985646] [ 0.30007681]\n",
      "140 [ 0.09995708] [ 0.30002299]\n",
      "160 [ 0.09998719] [ 0.30000687]\n",
      "180 [ 0.09999616] [ 0.30000207]\n",
      "200 [ 0.09999883] [ 0.30000064]\n"
     ]
    }
   ],
   "source": [
    "sess=tf.Session()\n",
    "sess.run(init)\n",
    "\n",
    "for step in range(201):\n",
    "    sess.run(train)\n",
    "    if step %20==0:\n",
    "        print(step,sess.run(Weights),sess.run(biases))"
   ]
  },
  {
   "cell_type": "code",
   "execution_count": null,
   "metadata": {},
   "outputs": [],
   "source": []
  }
 ],
 "metadata": {
  "kernelspec": {
   "display_name": "Python 3",
   "language": "python",
   "name": "python3"
  },
  "language_info": {
   "codemirror_mode": {
    "name": "ipython",
    "version": 3
   },
   "file_extension": ".py",
   "mimetype": "text/x-python",
   "name": "python",
   "nbconvert_exporter": "python",
   "pygments_lexer": "ipython3",
   "version": "3.6.3"
  }
 },
 "nbformat": 4,
 "nbformat_minor": 2
}
