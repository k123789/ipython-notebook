{
 "cells": [
  {
   "cell_type": "code",
   "execution_count": 1,
   "metadata": {},
   "outputs": [
    {
     "name": "stdout",
     "output_type": "stream",
     "text": [
      "Collecting html\n",
      "  Using cached https://files.pythonhosted.org/packages/4a/df/0e3d22d50ee43274eb5116f49972a164d853bb3ab305a69a0540b6292252/html-1.16.tar.gz\n",
      "    Complete output from command python setup.py egg_info:\n",
      "    Traceback (most recent call last):\n",
      "      File \"<string>\", line 1, in <module>\n",
      "      File \"C:\\Users\\123\\AppData\\Local\\Temp\\pip-install-o7v_hz_7\\html\\setup.py\", line 12, in <module>\n",
      "        long_description = __doc__.decode('utf8'),\n",
      "    AttributeError: 'str' object has no attribute 'decode'\n",
      "    \n",
      "    ----------------------------------------\n"
     ]
    },
    {
     "name": "stderr",
     "output_type": "stream",
     "text": [
      "Command \"python setup.py egg_info\" failed with error code 1 in C:\\Users\\123\\AppData\\Local\\Temp\\pip-install-o7v_hz_7\\html\\\n"
     ]
    }
   ],
   "source": [
    "!pip install -U html\n"
   ]
  },
  {
   "cell_type": "code",
   "execution_count": 5,
   "metadata": {},
   "outputs": [
    {
     "name": "stdout",
     "output_type": "stream",
     "text": [
      "Requirement already up-to-date: pyqrcode in c:\\programdata\\anaconda3\\lib\\site-packages (1.2.1)\n"
     ]
    }
   ],
   "source": [
    "!pip install -U pyqrcode"
   ]
  },
  {
   "cell_type": "code",
   "execution_count": 6,
   "metadata": {},
   "outputs": [
    {
     "name": "stdout",
     "output_type": "stream",
     "text": [
      "Collecting config\n",
      "  Downloading https://files.pythonhosted.org/packages/0a/46/186ac016f3175211ec9bb4208579bc6dc9dd7dc882790d9f281533b83b0f/config-0.3.9.tar.gz\n",
      "Building wheels for collected packages: config\n",
      "  Running setup.py bdist_wheel for config: started\n",
      "  Running setup.py bdist_wheel for config: finished with status 'done'\n",
      "  Stored in directory: C:\\Users\\123\\AppData\\Local\\pip\\Cache\\wheels\\bd\\2a\\c3\\0864d319a0d0b12689953259be78b860a92da58628b1908c95\n",
      "Successfully built config\n",
      "Installing collected packages: config\n",
      "Successfully installed config-0.3.9\n"
     ]
    }
   ],
   "source": [
    "!pip install -U config"
   ]
  },
  {
   "cell_type": "code",
   "execution_count": 7,
   "metadata": {},
   "outputs": [
    {
     "name": "stdout",
     "output_type": "stream",
     "text": [
      "Collecting backports.tempfile\n",
      "  Downloading https://files.pythonhosted.org/packages/b4/5c/077f910632476281428fe254807952eb47ca78e720d059a46178c541e669/backports.tempfile-1.0-py2.py3-none-any.whl\n",
      "Collecting backports.weakref (from backports.tempfile)\n",
      "  Downloading https://files.pythonhosted.org/packages/88/ec/f598b633c3d5ffe267aaada57d961c94fdfa183c5c3ebda2b6d151943db6/backports.weakref-1.0.post1-py2.py3-none-any.whl\n",
      "Installing collected packages: backports.weakref, backports.tempfile\n",
      "Successfully installed backports.tempfile-1.0 backports.weakref-1.0.post1\n"
     ]
    }
   ],
   "source": [
    "!pip install -U backports.tempfile"
   ]
  },
  {
   "cell_type": "code",
   "execution_count": 8,
   "metadata": {},
   "outputs": [
    {
     "name": "stderr",
     "output_type": "stream",
     "text": [
      "'mv' 不是內部或外部命令、可執行的程式或批次檔。\n"
     ]
    }
   ],
   "source": [
    "!mv docs org_docs\n"
   ]
  },
  {
   "cell_type": "code",
   "execution_count": 3,
   "metadata": {},
   "outputs": [
    {
     "name": "stdout",
     "output_type": "stream",
     "text": [
      "Requirement already up-to-date: qrcode in c:\\programdata\\anaconda3\\lib\\site-packages (6.0)\n",
      "Requirement not upgraded as not directly required: colorama; platform_system == \"Windows\" in c:\\programdata\\anaconda3\\lib\\site-packages (from qrcode) (0.3.9)\n",
      "Requirement not upgraded as not directly required: six in c:\\programdata\\anaconda3\\lib\\site-packages (from qrcode) (1.11.0)\n"
     ]
    }
   ],
   "source": [
    "!pip install -U qrcode"
   ]
  },
  {
   "cell_type": "code",
   "execution_count": 2,
   "metadata": {},
   "outputs": [
    {
     "ename": "SyntaxError",
     "evalue": "invalid syntax (<ipython-input-2-b56daa88d3ed>, line 1)",
     "output_type": "error",
     "traceback": [
      "\u001b[1;36m  File \u001b[1;32m\"<ipython-input-2-b56daa88d3ed>\"\u001b[1;36m, line \u001b[1;32m1\u001b[0m\n\u001b[1;33m    $ pip install -U qrcode\u001b[0m\n\u001b[1;37m    ^\u001b[0m\n\u001b[1;31mSyntaxError\u001b[0m\u001b[1;31m:\u001b[0m invalid syntax\n"
     ]
    }
   ],
   "source": [
    "$ pip install -U qrcode\n"
   ]
  },
  {
   "cell_type": "code",
   "execution_count": 4,
   "metadata": {},
   "outputs": [
    {
     "name": "stdout",
     "output_type": "stream",
     "text": [
      "Requirement already up-to-date: itchat in c:\\programdata\\anaconda3\\lib\\site-packages (1.3.10)\n",
      "Requirement not upgraded as not directly required: pypng in c:\\programdata\\anaconda3\\lib\\site-packages (from itchat) (0.0.18)\n",
      "Requirement not upgraded as not directly required: requests in c:\\programdata\\anaconda3\\lib\\site-packages (from itchat) (2.18.4)\n",
      "Requirement not upgraded as not directly required: pyqrcode in c:\\programdata\\anaconda3\\lib\\site-packages (from itchat) (1.2.1)\n",
      "Requirement not upgraded as not directly required: chardet<3.1.0,>=3.0.2 in c:\\programdata\\anaconda3\\lib\\site-packages (from requests->itchat) (3.0.4)\n",
      "Requirement not upgraded as not directly required: idna<2.7,>=2.5 in c:\\programdata\\anaconda3\\lib\\site-packages (from requests->itchat) (2.6)\n",
      "Requirement not upgraded as not directly required: urllib3<1.23,>=1.21.1 in c:\\programdata\\anaconda3\\lib\\site-packages (from requests->itchat) (1.22)\n",
      "Requirement not upgraded as not directly required: certifi>=2017.4.17 in c:\\programdata\\anaconda3\\lib\\site-packages (from requests->itchat) (2018.1.18)\n"
     ]
    }
   ],
   "source": [
    "!pip install -U itchat"
   ]
  },
  {
   "cell_type": "code",
   "execution_count": null,
   "metadata": {},
   "outputs": [],
   "source": []
  }
 ],
 "metadata": {
  "kernelspec": {
   "display_name": "Python 3",
   "language": "python",
   "name": "python3"
  },
  "language_info": {
   "codemirror_mode": {
    "name": "ipython",
    "version": 3
   },
   "file_extension": ".py",
   "mimetype": "text/x-python",
   "name": "python",
   "nbconvert_exporter": "python",
   "pygments_lexer": "ipython3",
   "version": "3.6.3"
  }
 },
 "nbformat": 4,
 "nbformat_minor": 2
}
