{
 "cells": [
  {
   "cell_type": "code",
   "execution_count": 1,
   "metadata": {},
   "outputs": [],
   "source": [
    "import requests\n",
    "import json\n",
    "import csv"
   ]
  },
  {
   "cell_type": "code",
   "execution_count": 2,
   "metadata": {},
   "outputs": [],
   "source": [
    "url_twse='http://www.tse.com.tw/exchangeReport/STOCK_DAY?response=json&date=20180312&stockNo=2330&_'\n",
    "res=requests.get(url_twse)\n",
    "s=json.loads(res.text)"
   ]
  },
  {
   "cell_type": "code",
   "execution_count": 3,
   "metadata": {},
   "outputs": [
    {
     "data": {
      "text/plain": [
       "{'data': [['107/03/01',\n",
       "   '43,847,984',\n",
       "   '10,669,194,561',\n",
       "   '244.00',\n",
       "   '245.00',\n",
       "   '242.00',\n",
       "   '243.00',\n",
       "   '-3.00',\n",
       "   '11,589'],\n",
       "  ['107/03/02',\n",
       "   '35,289,170',\n",
       "   '8,453,712,014',\n",
       "   '240.00',\n",
       "   '241.00',\n",
       "   '238.50',\n",
       "   '240.00',\n",
       "   '-3.00',\n",
       "   '10,440'],\n",
       "  ['107/03/05',\n",
       "   '27,337,846',\n",
       "   '6,607,367,732',\n",
       "   '242.50',\n",
       "   '243.00',\n",
       "   '240.50',\n",
       "   '241.50',\n",
       "   '+1.50',\n",
       "   '9,321'],\n",
       "  ['107/03/06',\n",
       "   '36,945,780',\n",
       "   '9,155,812,210',\n",
       "   '245.50',\n",
       "   '250.00',\n",
       "   '245.50',\n",
       "   '250.00',\n",
       "   '+8.50',\n",
       "   '13,977'],\n",
       "  ['107/03/07',\n",
       "   '30,391,219',\n",
       "   '7,525,601,638',\n",
       "   '248.00',\n",
       "   '248.50',\n",
       "   '246.00',\n",
       "   '247.00',\n",
       "   '-3.00',\n",
       "   '10,521'],\n",
       "  ['107/03/08',\n",
       "   '20,645,694',\n",
       "   '5,172,732,531',\n",
       "   '249.50',\n",
       "   '251.50',\n",
       "   '249.00',\n",
       "   '249.50',\n",
       "   '+2.50',\n",
       "   '8,817'],\n",
       "  ['107/03/09',\n",
       "   '22,887,063',\n",
       "   '5,723,277,170',\n",
       "   '250.00',\n",
       "   '251.00',\n",
       "   '248.50',\n",
       "   '250.50',\n",
       "   '+1.00',\n",
       "   '7,050'],\n",
       "  ['107/03/12',\n",
       "   '24,492,615',\n",
       "   '6,216,250,248',\n",
       "   '252.00',\n",
       "   '255.00',\n",
       "   '251.50',\n",
       "   '254.00',\n",
       "   '+3.50',\n",
       "   '10,545']],\n",
       " 'date': '20180312',\n",
       " 'fields': ['日期', '成交股數', '成交金額', '開盤價', '最高價', '最低價', '收盤價', '漲跌價差', '成交筆數'],\n",
       " 'notes': ['符號說明:+/-/X表示漲/跌/不比價',\n",
       "  '當日統計資訊含一般、零股、盤後定價，不含鉅額、拍賣、標購。',\n",
       "  'ETF證券代號第六碼為K、M、S、C者，表示該ETF以外幣交易。'],\n",
       " 'stat': 'OK',\n",
       " 'title': '107年03月 2330 台積電           各日成交資訊'}"
      ]
     },
     "execution_count": 3,
     "metadata": {},
     "output_type": "execute_result"
    }
   ],
   "source": [
    "s"
   ]
  },
  {
   "cell_type": "code",
   "execution_count": 4,
   "metadata": {},
   "outputs": [
    {
     "name": "stdout",
     "output_type": "stream",
     "text": [
      "['107/03/01', '43,847,984', '10,669,194,561', '244.00', '245.00', '242.00', '243.00', '-3.00', '11,589']\n",
      "['107/03/02', '35,289,170', '8,453,712,014', '240.00', '241.00', '238.50', '240.00', '-3.00', '10,440']\n",
      "['107/03/05', '27,337,846', '6,607,367,732', '242.50', '243.00', '240.50', '241.50', '+1.50', '9,321']\n",
      "['107/03/06', '36,945,780', '9,155,812,210', '245.50', '250.00', '245.50', '250.00', '+8.50', '13,977']\n",
      "['107/03/07', '30,391,219', '7,525,601,638', '248.00', '248.50', '246.00', '247.00', '-3.00', '10,521']\n",
      "['107/03/08', '20,645,694', '5,172,732,531', '249.50', '251.50', '249.00', '249.50', '+2.50', '8,817']\n",
      "['107/03/09', '22,887,063', '5,723,277,170', '250.00', '251.00', '248.50', '250.50', '+1.00', '7,050']\n",
      "['107/03/12', '24,492,615', '6,216,250,248', '252.00', '255.00', '251.50', '254.00', '+3.50', '10,545']\n"
     ]
    }
   ],
   "source": [
    "for data in(s['data']):\n",
    "    print(data)"
   ]
  },
  {
   "cell_type": "code",
   "execution_count": 8,
   "metadata": {},
   "outputs": [],
   "source": [
    "outputfile=open(r'C:\\Users\\123\\Desktop\\sotck\\output.csv','w',newline='')\n",
    "outputwriter = csv.writer(outputfile)\n",
    "outputwriter.writerow(s['title'])\n",
    "outputwriter.writerow(s['fields'])\n",
    "for data in (s['data']):\n",
    "    outputwriter.writerow(data)"
   ]
  },
  {
   "cell_type": "code",
   "execution_count": 9,
   "metadata": {},
   "outputs": [],
   "source": [
    "outputfile.close()"
   ]
  },
  {
   "cell_type": "code",
   "execution_count": null,
   "metadata": {},
   "outputs": [],
   "source": []
  },
  {
   "cell_type": "code",
   "execution_count": null,
   "metadata": {},
   "outputs": [],
   "source": []
  },
  {
   "cell_type": "code",
   "execution_count": null,
   "metadata": {},
   "outputs": [],
   "source": []
  },
  {
   "cell_type": "code",
   "execution_count": null,
   "metadata": {},
   "outputs": [],
   "source": []
  },
  {
   "cell_type": "code",
   "execution_count": null,
   "metadata": {},
   "outputs": [],
   "source": []
  },
  {
   "cell_type": "code",
   "execution_count": null,
   "metadata": {},
   "outputs": [],
   "source": []
  }
 ],
 "metadata": {
  "kernelspec": {
   "display_name": "Python 3",
   "language": "python",
   "name": "python3"
  },
  "language_info": {
   "codemirror_mode": {
    "name": "ipython",
    "version": 3
   },
   "file_extension": ".py",
   "mimetype": "text/x-python",
   "name": "python",
   "nbconvert_exporter": "python",
   "pygments_lexer": "ipython3",
   "version": "3.6.3"
  }
 },
 "nbformat": 4,
 "nbformat_minor": 2
}
