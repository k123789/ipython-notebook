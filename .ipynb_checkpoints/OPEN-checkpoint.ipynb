{
 "cells": [
  {
   "cell_type": "code",
   "execution_count": 22,
   "metadata": {},
   "outputs": [],
   "source": [
    "import csv"
   ]
  },
  {
   "cell_type": "code",
   "execution_count": 2,
   "metadata": {},
   "outputs": [
    {
     "name": "stdout",
     "output_type": "stream",
     "text": [
      "1,0,7,年,0,3,月, ,2,3,3,0, ,台,積,電, , , , , , , , , , , ,各,日,成,交,資,訊\n",
      "日期,成交股數,成交金額,開盤價,最高價,最低價,收盤價,漲跌價差,成交筆數\n",
      "107/03/01,\"43,847,984\",\"10,669,194,561\",244.00,245.00,242.00,243.00,-3.00,\"11,589\"\n",
      "107/03/02,\"35,289,170\",\"8,453,712,014\",240.00,241.00,238.50,240.00,-3.00,\"10,440\"\n",
      "107/03/05,\"27,337,846\",\"6,607,367,732\",242.50,243.00,240.50,241.50,+1.50,\"9,321\"\n",
      "107/03/06,\"36,945,780\",\"9,155,812,210\",245.50,250.00,245.50,250.00,+8.50,\"13,977\"\n",
      "107/03/07,\"30,391,219\",\"7,525,601,638\",248.00,248.50,246.00,247.00,-3.00,\"10,521\"\n",
      "107/03/08,\"20,645,694\",\"5,172,732,531\",249.50,251.50,249.00,249.50,+2.50,\"8,817\"\n",
      "107/03/09,\"22,887,063\",\"5,723,277,170\",250.00,251.00,248.50,250.50,+1.00,\"7,050\"\n",
      "107/03/12,\"24,492,615\",\"6,216,250,248\",252.00,255.00,251.50,254.00,+3.50,\"10,545\"\n"
     ]
    }
   ],
   "source": [
    "f=open(r'C:\\Users\\123\\Desktop\\sotck\\output.csv','r')\n",
    "for line in f:\n",
    "    print(line,end='')\n",
    "f.close()"
   ]
  },
  {
   "cell_type": "code",
   "execution_count": null,
   "metadata": {},
   "outputs": [],
   "source": []
  },
  {
   "cell_type": "code",
   "execution_count": null,
   "metadata": {},
   "outputs": [],
   "source": []
  }
 ],
 "metadata": {
  "kernelspec": {
   "display_name": "Python 3",
   "language": "python",
   "name": "python3"
  },
  "language_info": {
   "codemirror_mode": {
    "name": "ipython",
    "version": 3
   },
   "file_extension": ".py",
   "mimetype": "text/x-python",
   "name": "python",
   "nbconvert_exporter": "python",
   "pygments_lexer": "ipython3",
   "version": "3.6.3"
  }
 },
 "nbformat": 4,
 "nbformat_minor": 2
}
