{
 "cells": [
  {
   "cell_type": "code",
   "execution_count": 1,
   "metadata": {},
   "outputs": [
    {
     "name": "stdout",
     "output_type": "stream",
     "text": [
      "█\r"
     ]
    }
   ],
   "source": [
    "# from __future__ import unicode_literals, division\n",
    "import time, datetime, requests, itchat\n",
    "from itchat.content import *\n"
   ]
  },
  {
   "cell_type": "code",
   "execution_count": 2,
   "metadata": {},
   "outputs": [
    {
     "name": "stderr",
     "output_type": "stream",
     "text": [
      "Getting uuid of QR code.\n",
      "Downloading QR code.\n",
      "Please scan the QR code to log in.\n",
      "Please press confirm on your phone.\n",
      "Loading the contact, this may take a little while.\n",
      "Login successfully as jlee\n"
     ]
    }
   ],
   "source": [
    "itchat.auto_login(hotReload=True) # hotReload=True: 退出程序后暂存登陆状态。即使程序关闭，一定时间内重新开启也可以不用重新扫码。\n",
    "# itchat.auto_login(enableCmdQR=-2) # enableCmdQR=-2: 命令行显示QR图片"
   ]
  },
  {
   "cell_type": "code",
   "execution_count": 3,
   "metadata": {},
   "outputs": [
    {
     "name": "stdout",
     "output_type": "stream",
     "text": [
      "{'MemberList': <ContactList: []>, 'UserName': '@1ea64689b55dba22277678a2271cc5b5a62877d187cbd9c92d16391f7f36fae2', 'City': '', 'DisplayName': '', 'PYQuanPin': '', 'RemarkPYInitial': '', 'Province': '', 'KeyWord': '', 'RemarkName': '', 'PYInitial': '', 'EncryChatRoomId': '', 'Alias': '', 'Signature': '', 'NickName': 'jlee', 'RemarkPYQuanPin': '', 'HeadImgUrl': '/cgi-bin/mmwebwx-bin/webwxgeticon?seq=190588750&username=@1ea64689b55dba22277678a2271cc5b5a62877d187cbd9c92d16391f7f36fae2&skey=@crypt_98a62d37_84fdfde4a324bfb461366a0e5718afe5', 'UniFriend': 0, 'Sex': 1, 'AppAccountFlag': 0, 'VerifyFlag': 0, 'ChatRoomId': 0, 'HideInputBarFlag': 0, 'AttrStatus': 0, 'SnsFlag': 49, 'MemberCount': 0, 'OwnerUin': 0, 'ContactFlag': 0, 'Uin': 2698968723, 'StarFriend': 0, 'Statues': 0, 'WebWxPluginSwitch': 0, 'HeadImgFlag': 1}\n"
     ]
    }
   ],
   "source": [
    "# 获取自己的用户信息，返回自己的属性字典\n",
    "friend = itchat.search_friends()\n",
    "print(friend)"
   ]
  },
  {
   "cell_type": "code",
   "execution_count": 4,
   "metadata": {},
   "outputs": [
    {
     "name": "stdout",
     "output_type": "stream",
     "text": [
      "NickName  : jlee\n",
      "Alias A-ID: \n",
      "RemarkName: \n",
      "UserName  : @1ea64689b55dba22277678a2271cc5b5a62877d187cbd9c92d16391f7f36fae2\n"
     ]
    }
   ],
   "source": [
    "print('NickName  : %s' % friend['NickName'])\n",
    "print('Alias A-ID: %s' % friend['Alias'])\n",
    "print('RemarkName: %s' % friend['RemarkName'])\n",
    "print('UserName  : %s' % friend['UserName'])"
   ]
  },
  {
   "cell_type": "code",
   "execution_count": 5,
   "metadata": {},
   "outputs": [],
   "source": [
    "# 获取任何一项等于name键值的用户。\n",
    "# 'NickName' 昵称, set by that friend, changeable\n",
    "# 'Alias' ID微信号 = wechatAccount, one time set by that friend, cannot change\n",
    "# 'RemarkName' 备注名, set by current login account owner, changeable by login account owner\n",
    "# 注意：返回可能包含多个朋友。为什么呢？\n",
    "\n",
    "friend = itchat.search_friends(name=u'Bobson Yu')\n",
    "# friend = itchat.search_friends(name=u'Mr. R')\n",
    "# friend = itchat.search_friends(name=u'Ms. S')"
   ]
  },
  {
   "cell_type": "code",
   "execution_count": 6,
   "metadata": {},
   "outputs": [
    {
     "name": "stdout",
     "output_type": "stream",
     "text": [
      "NickName  : Bobson Yu\n",
      "Alias A-ID: \n",
      "RemarkName: \n",
      "UserName  : @3b7dc98ddaeec6eee3a5d4517aff92c5\n"
     ]
    }
   ],
   "source": [
    "for i in range(0, len(friend)):\n",
    "    print('NickName  : %s' % friend[i]['NickName'])\n",
    "    print('Alias A-ID: %s' % friend[i]['Alias'])\n",
    "    print('RemarkName: %s' % friend[i]['RemarkName'])\n",
    "    print('UserName  : %s' % friend[i]['UserName'])"
   ]
  },
  {
   "cell_type": "code",
   "execution_count": 7,
   "metadata": {},
   "outputs": [],
   "source": [
    "# 获取分别对应相应键值的用户。\n",
    "\n",
    "friend = itchat.search_friends(nickName=u'Bobson Yu')\n",
    "# friend = itchat.search_friends(wechatAccount=u'Sam Gu')\n",
    "#friend = itchat.search_friends(remarkName=u'Sam Gu')\n",
    "# friend = itchat.search_friends(userName=u'Sam Gu')"
   ]
  },
  {
   "cell_type": "code",
   "execution_count": 8,
   "metadata": {},
   "outputs": [
    {
     "name": "stdout",
     "output_type": "stream",
     "text": [
      "NickName  : Bobson Yu\n",
      "Alias A-ID: \n",
      "RemarkName: \n",
      "UserName  : @3b7dc98ddaeec6eee3a5d4517aff92c5\n"
     ]
    }
   ],
   "source": [
    "for i in range(0, len(friend)):\n",
    "    print('NickName  : %s' % friend[i]['NickName'])\n",
    "    print('Alias A-ID: %s' % friend[i]['Alias'])\n",
    "    print('RemarkName: %s' % friend[i]['RemarkName'])\n",
    "    print('UserName  : %s' % friend[i]['UserName'])"
   ]
  },
  {
   "cell_type": "code",
   "execution_count": null,
   "metadata": {},
   "outputs": [],
   "source": [
    "# 查找群组\n",
    "# group = itchat.search_chatrooms(name=u'Data Science')\n",
    "#group = itchat.search_chatrooms(name=u'陪聊妹UAT')"
   ]
  },
  {
   "cell_type": "code",
   "execution_count": null,
   "metadata": {},
   "outputs": [],
   "source": [
    "for i in range(0, len(group)):\n",
    "    print('NickName  : %s' % group[i]['NickName'])\n",
    "    print('Alias A-ID: %s' % group[i]['Alias'])\n",
    "    print('RemarkName: %s' % group[i]['RemarkName'])\n",
    "    print('UserName  : %s' % group[i]['UserName'])\n",
    "    print('Is Owner? : %s ( 0 for No | 1 for Yes )' % group[0]['IsOwner'])\n",
    "    print('Is Admin? : %s' % group[i]['IsAdmin'])\n",
    "    print('')"
   ]
  },
  {
   "cell_type": "code",
   "execution_count": 11,
   "metadata": {},
   "outputs": [
    {
     "name": "stdout",
     "output_type": "stream",
     "text": [
      "请求成功\n"
     ]
    }
   ],
   "source": [
    "# 文字\n",
    "reply = itchat.send(u'别来无恙啊！\\n发送时间:\\n{:%Y-%b-%d %H:%M:%S}'.format(datetime.datetime.now()), friend[0]['UserName']) \n",
    "print(reply['BaseResponse']['ErrMsg'])\n",
    "\n",
    "# 图片\n",
    "#reply = itchat.send_image('./reference/WeChat_SamGu_QR.png', friend[0]['UserName']) \n",
    "#print(reply['BaseResponse']['ErrMsg'])\n",
    "\n",
    "# 文件\n",
    "#reply = itchat.send_file('./reference/logo.pdf', friend[0]['UserName']) \n",
    "#print(reply['BaseResponse']['ErrMsg'])\n",
    "\n",
    "# 音频（语音可以先转成MP3）\n",
    "#reply = itchat.send_file('./reference/audio.mp3', friend[0]['UserName']) \n",
    "#print(reply['BaseResponse']['ErrMsg'])\n",
    "\n",
    "# 视频\n",
    "#reply = itchat.send_video('./reference/video.mp4', friend[0]['UserName']) \n",
    "#print(reply['BaseResponse']['ErrMsg'])\n",
    "\n",
    "# 发送信息去群组： group[0]['UserName']\n",
    "# 文字\n",
    "#reply = itchat.send(u'别来无恙啊！\\n发送时间:\\n{:%Y-%b-%d %H:%M:%S}'.format(datetime.datetime.now()), group[0]['UserName']) \n",
    "#print(reply['BaseResponse']['ErrMsg'])"
   ]
  },
  {
   "cell_type": "code",
   "execution_count": 10,
   "metadata": {},
   "outputs": [
    {
     "name": "stderr",
     "output_type": "stream",
     "text": [
      "Start auto replying.\n"
     ]
    },
    {
     "name": "stdout",
     "output_type": "stream",
     "text": [
      "二六\n",
      "六\n"
     ]
    },
    {
     "name": "stderr",
     "output_type": "stream",
     "text": [
      "Bye~\n",
      "Start auto replying.\n"
     ]
    },
    {
     "name": "stdout",
     "output_type": "stream",
     "text": [
      "挖\n",
      "挖\n"
     ]
    },
    {
     "name": "stderr",
     "output_type": "stream",
     "text": [
      "Bye~\n"
     ]
    }
   ],
   "source": [
    "# itchat.auto_login(hotReload=True) # hotReload=True: 退出程序后暂存登陆状态。即使程序关闭，一定时间内重新开启也可以不用重新扫码。\n",
    "# @itchat.msg_register(itchat.content.TEXT)\n",
    "# def text_reply(msg):\n",
    "#    print(msg['Text'])\n",
    "\n",
    "# 长期有效地运行（术语叫做：开始监听）\n",
    "# itchat.run()\n",
    "\n"
   ]
  },
  {
   "cell_type": "code",
   "execution_count": 10,
   "metadata": {},
   "outputs": [
    {
     "name": "stderr",
     "output_type": "stream",
     "text": [
      "Start auto replying.\n"
     ]
    },
    {
     "name": "stdout",
     "output_type": "stream",
     "text": [
      "六\n",
      "六\n"
     ]
    },
    {
     "name": "stderr",
     "output_type": "stream",
     "text": [
      "LOG OUT!\n",
      "LOG OUT!\n"
     ]
    }
   ],
   "source": [
    "# interupt, then re-login\n",
    "itchat.auto_login(hotReload=True)\n",
    "\n",
    "@itchat.msg_register(itchat.content.TEXT)\n",
    "def text_reply(msg):\n",
    "    print(msg['Text'])\n",
    "    return u'谢谢亲[嘴唇]我收到 I received:\\n' + msg['Text']\n",
    "itchat.run()"
   ]
  },
  {
   "cell_type": "code",
   "execution_count": 12,
   "metadata": {},
   "outputs": [],
   "source": [
    "# interupt, then re-login\n",
    "itchat.auto_login(hotReload=True)\n",
    "\n"
   ]
  },
  {
   "cell_type": "code",
   "execution_count": 14,
   "metadata": {},
   "outputs": [
    {
     "name": "stderr",
     "output_type": "stream",
     "text": [
      "Start auto replying.\n",
      "Bye~\n"
     ]
    }
   ],
   "source": [
    "# 如果收到[TEXT, MAP, CARD, NOTE, SHARING]类的信息，会自动回复：\n",
    "@itchat.msg_register([TEXT, MAP, CARD, NOTE, SHARING]) # 文字、位置、名片、通知、分享\n",
    "def text_reply(msg):\n",
    "    itchat.send('%s: %s' % (msg['Type'], msg['Text']), msg['FromUserName'])\n",
    "\n",
    "# 如果收到[PICTURE, RECORDING, ATTACHMENT, VIDEO]类的信息，会自动保存：\n",
    "@itchat.msg_register([PICTURE, RECORDING, ATTACHMENT, VIDEO]) # 图片、语音、文件、视频\n",
    "def download_files(msg):\n",
    "    msg['Text'](msg['FileName'])\n",
    "    return '@%s@%s' % ({'Picture': 'img', 'Video': 'vid'}.get(msg['Type'], 'fil'), msg['FileName'])\n",
    "\n",
    "# 如果收到新朋友的请求，会自动通过验证添加加好友，并主动打个招呼：幸会幸会！Nice to meet you!\n",
    "@itchat.msg_register(FRIENDS)\n",
    "def add_friend(msg):\n",
    "    itchat.add_friend(**msg['Text']) # 该操作会自动将新好友的消息录入，不需要重载通讯录\n",
    "    itchat.send_msg(u'幸会幸会！Nice to meet you!', msg['RecommendInfo']['UserName'])\n",
    "\n",
    "# 在群里，如果收到@自己的文字信息，会自动回复：\n",
    "@itchat.msg_register(TEXT, isGroupChat=True)\n",
    "def text_reply(msg):\n",
    "    if msg['isAt']:\n",
    "        itchat.send(u'@%s\\u2005I received: %s' % (msg['ActualNickName'], msg['Content']), msg['FromUserName'])\n",
    "itchat.run()\n"
   ]
  },
  {
   "cell_type": "code",
   "execution_count": 16,
   "metadata": {},
   "outputs": [
    {
     "data": {
      "text/plain": [
       "<ItchatReturnValue: {'BaseResponse': {'ErrMsg': '请求成功', 'Ret': 0, 'RawMsg': 'logout successfully.'}}>"
      ]
     },
     "execution_count": 16,
     "metadata": {},
     "output_type": "execute_result"
    }
   ],
   "source": [
    "\n",
    "# interupt, then logout\n",
    "itchat.logout() # 安全退出"
   ]
  },
  {
   "cell_type": "code",
   "execution_count": null,
   "metadata": {},
   "outputs": [],
   "source": []
  }
 ],
 "metadata": {
  "kernelspec": {
   "display_name": "Python 3",
   "language": "python",
   "name": "python3"
  },
  "language_info": {
   "codemirror_mode": {
    "name": "ipython",
    "version": 3
   },
   "file_extension": ".py",
   "mimetype": "text/x-python",
   "name": "python",
   "nbconvert_exporter": "python",
   "pygments_lexer": "ipython3",
   "version": "3.6.3"
  }
 },
 "nbformat": 4,
 "nbformat_minor": 2
}
